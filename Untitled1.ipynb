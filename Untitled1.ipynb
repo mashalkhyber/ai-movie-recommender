{
  "cells": [
    {
      "cell_type": "code",
      "execution_count": null,
      "metadata": {
        "id": "b03Mz18YNvL-"
      },
      "outputs": [],
      "source": []
    },
    {
      "cell_type": "markdown",
      "source": [
        "# dictionary **bold text**"
      ],
      "metadata": {
        "id": "A6z4iwj6qyED"
      }
    },
    {
      "cell_type": "code",
      "source": [
        "# Step 1: Import libraries\n",
        "import pandas as pd\n",
        "from sklearn.feature_extraction.text import TfidfVectorizer\n",
        "from sklearn.metrics.pairwise import cosine_similarity\n",
        "\n",
        "# Step 2: Create a bigger dataset of movies\n",
        "movies = {\n",
        "    \"title\": [\n",
        "        \"The Dark Knight\", \"Inception\", \"Interstellar\", \"The Matrix\", \"Titanic\",\n",
        "        \"The Avengers\", \"Avatar\", \"The Lion King\", \"Gladiator\", \"The Godfather\",\n",
        "        \"Iron Man\", \"Shutter Island\", \"Frozen\", \"Joker\", \"Black Panther\",\n",
        "        \"Doctor Strange\", \"Finding Nemo\", \"The Shawshank Redemption\",\n",
        "        \"Pulp Fiction\", \"Forrest Gump\"\n",
        "    ],\n",
        "    \"description\": [\n",
        "        \"Batman faces the Joker in Gotham city.\",\n",
        "        \"A thief enters dreams to steal corporate secrets.\",\n",
        "        \"Astronauts travel through a wormhole in search of a new home.\",\n",
        "        \"A computer hacker learns about the true nature of his reality.\",\n",
        "        \"A romance aboard the ill-fated Titanic ship.\",\n",
        "        \"Earth's mightiest heroes unite against a common threat.\",\n",
        "        \"A marine on an alien planet torn between duty and love.\",\n",
        "        \"A young lion prince flees and learns about responsibility.\",\n",
        "        \"A Roman general seeks revenge after betrayal.\",\n",
        "        \"The aging patriarch of a crime family transfers power to his son.\",\n",
        "        \"A billionaire builds a powerful suit to fight evil.\",\n",
        "        \"A U.S. Marshal investigates a psychiatric facility on an island.\",\n",
        "        \"A princess with magical ice powers struggles to control them.\",\n",
        "        \"A failed comedian descends into madness and becomes a villain.\",\n",
        "        \"The king of Wakanda must defend his land and people.\",\n",
        "        \"A surgeon discovers the hidden world of magic and alternate realities.\",\n",
        "        \"A clownfish crosses the ocean to rescue his son.\",\n",
        "        \"Two imprisoned men bond over years, finding redemption.\",\n",
        "        \"The lives of two hitmen, a boxer, and others intertwine.\",\n",
        "        \"A man with low IQ recounts his extraordinary life story.\"\n",
        "    ]\n",
        "}\n",
        "\n",
        "# Step 3: Convert to DataFrame\n",
        "df = pd.DataFrame(movies)\n",
        "print(\"Movie Dataset:\")\n",
        "print(df)\n",
        "\n",
        "# Step 4: Vectorize the descriptions\n",
        "vectorizer = TfidfVectorizer()\n",
        "tfidf_matrix = vectorizer.fit_transform(df[\"description\"])\n",
        "\n",
        "# Step 5: Compute similarity between all movies\n",
        "cosine_sim = cosine_similarity(tfidf_matrix, tfidf_matrix)\n",
        "\n",
        "# Step 6: Define the recommender function\n",
        "def recommend_movies(title, num_recommendations=5):\n",
        "    if title not in df[\"title\"].values:\n",
        "        return [\"Movie not found in dataset. Try another one.\"]\n",
        "\n",
        "    idx = df[df[\"title\"] == title].index[0]\n",
        "    sim_scores = list(enumerate(cosine_sim[idx]))\n",
        "    sim_scores = sorted(sim_scores, key=lambda x: x[1], reverse=True)\n",
        "    sim_scores = sim_scores[1:num_recommendations+1]\n",
        "    movie_indices = [i[0] for i in sim_scores]\n",
        "\n",
        "    return df[\"title\"].iloc[movie_indices].tolist()\n",
        "\n",
        "# Step 7: Test the recommender\n",
        "print(\"\\nRecommendations for 'Inception':\")\n",
        "print(recommend_movies(\"Inception\"))\n",
        "\n",
        "print(\"\\nRecommendations for 'Joker':\")\n",
        "print(recommend_movies(\"Joker\"))\n",
        "\n",
        "print(\"\\nRecommendations for 'Titanic':\")\n",
        "print(recommend_movies(\"Titanic\"))\n"
      ],
      "metadata": {
        "colab": {
          "base_uri": "https://localhost:8080/"
        },
        "id": "wmLFNMKZwAdr",
        "outputId": "8fa40d5f-6305-40e2-c88e-9c27ca6f7274"
      },
      "execution_count": 7,
      "outputs": [
        {
          "output_type": "stream",
          "name": "stdout",
          "text": [
            "Movie Dataset:\n",
            "                       title  \\\n",
            "0            The Dark Knight   \n",
            "1                  Inception   \n",
            "2               Interstellar   \n",
            "3                 The Matrix   \n",
            "4                    Titanic   \n",
            "5               The Avengers   \n",
            "6                     Avatar   \n",
            "7              The Lion King   \n",
            "8                  Gladiator   \n",
            "9              The Godfather   \n",
            "10                  Iron Man   \n",
            "11            Shutter Island   \n",
            "12                    Frozen   \n",
            "13                     Joker   \n",
            "14             Black Panther   \n",
            "15            Doctor Strange   \n",
            "16              Finding Nemo   \n",
            "17  The Shawshank Redemption   \n",
            "18              Pulp Fiction   \n",
            "19              Forrest Gump   \n",
            "\n",
            "                                          description  \n",
            "0              Batman faces the Joker in Gotham city.  \n",
            "1   A thief enters dreams to steal corporate secrets.  \n",
            "2   Astronauts travel through a wormhole in search...  \n",
            "3   A computer hacker learns about the true nature...  \n",
            "4        A romance aboard the ill-fated Titanic ship.  \n",
            "5   Earth's mightiest heroes unite against a commo...  \n",
            "6   A marine on an alien planet torn between duty ...  \n",
            "7   A young lion prince flees and learns about res...  \n",
            "8       A Roman general seeks revenge after betrayal.  \n",
            "9   The aging patriarch of a crime family transfer...  \n",
            "10  A billionaire builds a powerful suit to fight ...  \n",
            "11  A U.S. Marshal investigates a psychiatric faci...  \n",
            "12  A princess with magical ice powers struggles t...  \n",
            "13  A failed comedian descends into madness and be...  \n",
            "14  The king of Wakanda must defend his land and p...  \n",
            "15  A surgeon discovers the hidden world of magic ...  \n",
            "16   A clownfish crosses the ocean to rescue his son.  \n",
            "17  Two imprisoned men bond over years, finding re...  \n",
            "18  The lives of two hitmen, a boxer, and others i...  \n",
            "19  A man with low IQ recounts his extraordinary l...  \n",
            "\n",
            "Recommendations for 'Inception':\n",
            "['Finding Nemo', 'Iron Man', 'Frozen', 'The Godfather', 'The Dark Knight']\n",
            "\n",
            "Recommendations for 'Joker':\n",
            "['Pulp Fiction', 'The Lion King', 'Black Panther', 'Doctor Strange', 'Avatar']\n",
            "\n",
            "Recommendations for 'Titanic':\n",
            "['Finding Nemo', 'The Dark Knight', 'Pulp Fiction', 'Black Panther', 'The Matrix']\n"
          ]
        }
      ]
    }
  ],
  "metadata": {
    "colab": {
      "toc_visible": true,
      "provenance": []
    },
    "kernelspec": {
      "display_name": "Python 3",
      "name": "python3"
    },
    "language_info": {
      "name": "python"
    }
  },
  "nbformat": 4,
  "nbformat_minor": 0
}